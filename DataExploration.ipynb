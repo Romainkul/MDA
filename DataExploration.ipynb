{
 "cells": [
  {
   "cell_type": "code",
   "execution_count": 16,
   "metadata": {},
   "outputs": [
    {
     "name": "stdout",
     "output_type": "stream",
     "text": [
      "Collecting pyarrow\n",
      "  Downloading pyarrow-19.0.1-cp310-cp310-win_amd64.whl (25.3 MB)\n",
      "     ---------------------------------------- 25.3/25.3 MB 2.4 MB/s eta 0:00:00\n",
      "Installing collected packages: pyarrow\n",
      "Successfully installed pyarrow-19.0.1\n",
      "Note: you may need to restart the kernel to use updated packages.\n"
     ]
    },
    {
     "name": "stderr",
     "output_type": "stream",
     "text": [
      "WARNING: You are using pip version 22.0.4; however, version 25.0.1 is available.\n",
      "You should consider upgrading via the 'c:\\Users\\Romain\\AppData\\Local\\Programs\\Python\\Python310\\python.exe -m pip install --upgrade pip' command.\n"
     ]
    }
   ],
   "source": [
    "%pip install pyarrow"
   ]
  },
  {
   "cell_type": "code",
   "execution_count": null,
   "metadata": {},
   "outputs": [],
   "source": [
    "import csv\n",
    "import re\n",
    "import polars as pl"
   ]
  },
  {
   "cell_type": "markdown",
   "metadata": {},
   "source": [
    "#### Project CSV"
   ]
  },
  {
   "cell_type": "code",
   "execution_count": 178,
   "metadata": {},
   "outputs": [],
   "source": [
    "input_file = r\"C:\\Users\\Romain\\OneDrive - KU Leuven\\Masters\\MBIS\\Year 2\\Semester 2\\Modern Data Analytics\\CORDIS\\project.csv\"\n",
    "output_file = r\"C:\\Users\\Romain\\OneDrive - KU Leuven\\Masters\\MBIS\\Year 2\\Semester 2\\Modern Data Analytics\\CORDIS\\project_cleaned.csv\"\n",
    "\n",
    "\n",
    "year_pattern = re.compile(r\"^20\\d{2}\")\n",
    "\n",
    "DELIM_IN = \";\"\n",
    "DELIM_OUT = \";\"\n",
    "\n",
    "with open(input_file, \"r\", encoding=\"utf-8\") as f_in, \\\n",
    "     open(output_file, \"w\", encoding=\"utf-8\", newline=\"\") as f_out:\n",
    "    \n",
    "    # Use the chosen output delimiter\n",
    "    writer = csv.writer(f_out, delimiter=DELIM_OUT)\n",
    "\n",
    "    # Keep track if we're on the header row (just once)\n",
    "    header = True\n",
    "\n",
    "    for j,line in enumerate(f_in):\n",
    "        # Split by the *input* delimiter\n",
    "        fields = line.rstrip(\"\\n\").split(DELIM_IN)\n",
    "\n",
    "        cleaned_fields = []\n",
    "        descr = True\n",
    "        bad_field = fields\n",
    "        for i, field in enumerate(fields):\n",
    "            # If the first field is blank, skip row\n",
    "            if i == 0 and field == '':\n",
    "                break\n",
    "            if field[0]!='\"' and not header and not year_pattern.match(field):\n",
    "                field = field.replace('\"\"\"', '').replace('\"\"', '').replace('\"', '')\n",
    "                field = field.strip('\"').strip()\n",
    "                if cleaned_fields:\n",
    "                    cleaned_fields[-1] += \" \" + field\n",
    "                else:\n",
    "                    cleaned_fields.append(field)\n",
    "            elif field == '' and i > 20:\n",
    "                continue\n",
    "            else:\n",
    "                field = field.replace('\"\"\"', '').replace('\"\"', '').replace('\"', '')\n",
    "                field = field.strip('\"').strip()\n",
    "                cleaned_fields.append(field)\n",
    "        header = False\n",
    "        while cleaned_fields and not cleaned_fields[-1].strip():\n",
    "            cleaned_fields.pop()\n",
    "        if cleaned_fields[0] in ['101057843','101046298']:\n",
    "            last_three = cleaned_fields[-3:] \n",
    "            cleaned_fields[-4], cleaned_fields[-3], cleaned_fields[-2] = last_three\n",
    "            cleaned_fields.pop()\n",
    "            \n",
    "        if cleaned_fields:\n",
    "            cleaned_fields[-1] = cleaned_fields[-1].replace(\",\", \"\")\n",
    "\n",
    "        # Write the final row\n",
    "        if cleaned_fields:  # only write if there's something\n",
    "            writer.writerow(cleaned_fields)\n",
    "\n",
    "projects = pl.read_csv(output_file,separator=\";\",quote_char=None,has_header=True,infer_schema_length=40000,truncate_ragged_lines=True)\n",
    "projects = projects.with_columns([\n",
    "    # 1) ID as Int64\n",
    "    pl.col(\"id\").cast(pl.Int64),\n",
    "    # 2) Remove extra quotes from string columns that should remain strings\n",
    "    pl.col(\"acronym\").str.strip_chars('\"').alias(\"acronym\"),\n",
    "    pl.col(\"status\").str.strip_chars('\"').alias(\"status\"),\n",
    "    pl.col(\"title\").str.strip_chars('\"').alias(\"title\"),\n",
    "    pl.col(\"legalBasis\").str.strip_chars('\"').alias(\"legalBasis\"),\n",
    "    pl.col(\"topics\").str.strip_chars('\"').alias(\"topics\"),\n",
    "    pl.col(\"frameworkProgramme\").str.strip_chars('\"').alias(\"frameworkProgramme\"),\n",
    "    pl.col(\"masterCall\").str.strip_chars('\"').alias(\"masterCall\"),\n",
    "    pl.col(\"subCall\").str.strip_chars('\"').alias(\"subCall\"),\n",
    "    pl.col(\"fundingScheme\").str.strip_chars('\"').alias(\"fundingScheme\"),\n",
    "    pl.col(\"nature\").str.strip_chars('\"').alias(\"nature\"),\n",
    "    pl.col(\"objective\").str.strip_chars('\"').alias(\"objective\"),\n",
    "    pl.col(\"grantDoi\").str.strip_chars('\"').alias(\"grantDoi\"),\n",
    "    \n",
    "    # 3) Convert totalCost and ecMaxContribution to floats (or Int64 if you prefer)\n",
    "    pl.col(\"totalCost\").str.strip_chars('\"').str.replace(\",\",\".\").cast(pl.Float64).alias(\"totalCost\"),\n",
    "    pl.col(\"ecMaxContribution\").str.strip_chars('\"').str.replace(\",\",\".\").cast(pl.Float64).alias(\"ecMaxContribution\"),\n",
    "    \n",
    "    # 4) Convert date-like columns from string to Polars date or datetime\n",
    "    # If they have a date format like YYYY-MM-DD, use pl.Date\n",
    "    # If they also have times, use pl.Datetime\n",
    "    pl.col(\"startDate\")\n",
    "      .str.strip_chars('\"')\n",
    "      .str.strptime(pl.Date, \"%Y-%m-%d\", strict=False)\n",
    "      .alias(\"startDate\"),\n",
    "    \n",
    "    pl.col(\"endDate\")\n",
    "      .str.strip_chars('\"')\n",
    "      .str.strptime(pl.Date, \"%Y-%m-%d\", strict=False)\n",
    "      .alias(\"endDate\"),\n",
    "    \n",
    "    pl.col(\"ecSignatureDate\")\n",
    "      .str.strip_chars('\"')\n",
    "      .str.strptime(pl.Date, \"%Y-%m-%d\", strict=False)\n",
    "      .alias(\"ecSignatureDate\"),\n",
    "    \n",
    "    pl.col(\"contentUpdateDate\")\n",
    "      .str.strip_chars('\"')\n",
    "      .str.strptime(pl.Datetime, \"%Y-%m-%d %H:%M:%S\", strict=False)\n",
    "      .alias(\"contentUpdateDate\"),\n",
    "    \n",
    "    # 5) Convert rcn to Int64\n",
    "    pl.col(\"rcn\").cast(pl.Int64).alias(\"rcn\"),\n",
    "])\n",
    "projects.write_parquet(\"projects.parquet\")"
   ]
  },
  {
   "cell_type": "code",
   "execution_count": 179,
   "metadata": {},
   "outputs": [
    {
     "data": {
      "text/html": [
       "<div><style>\n",
       ".dataframe > thead > tr,\n",
       ".dataframe > tbody > tr {\n",
       "  text-align: right;\n",
       "  white-space: pre-wrap;\n",
       "}\n",
       "</style>\n",
       "<small>shape: (5, 20)</small><table border=\"1\" class=\"dataframe\"><thead><tr><th>id</th><th>acronym</th><th>status</th><th>title</th><th>startDate</th><th>endDate</th><th>totalCost</th><th>ecMaxContribution</th><th>legalBasis</th><th>topics</th><th>ecSignatureDate</th><th>frameworkProgramme</th><th>masterCall</th><th>subCall</th><th>fundingScheme</th><th>nature</th><th>objective</th><th>contentUpdateDate</th><th>rcn</th><th>grantDoi</th></tr><tr><td>i64</td><td>str</td><td>str</td><td>str</td><td>date</td><td>date</td><td>f64</td><td>f64</td><td>str</td><td>str</td><td>date</td><td>str</td><td>str</td><td>str</td><td>str</td><td>str</td><td>str</td><td>datetime[μs]</td><td>i64</td><td>str</td></tr></thead><tbody><tr><td>101116741</td><td>&quot;DOE&quot;</td><td>&quot;SIGNED&quot;</td><td>&quot;Digitizing Other Economies: A …</td><td>2024-02-01</td><td>2029-01-31</td><td>1.499998e6</td><td>1.499998e6</td><td>&quot;HORIZON.1.1&quot;</td><td>&quot;ERC-2023-STG&quot;</td><td>2023-12-15</td><td>&quot;HORIZON&quot;</td><td>&quot;ERC-2023-STG&quot;</td><td>&quot;ERC-2023-STG&quot;</td><td>&quot;HORIZON-ERC&quot;</td><td>null</td><td>&quot;How do longstanding, primarily…</td><td>2023-12-26 14:40:12</td><td>259247</td><td>&quot;10.3030/101116741&quot;</td></tr><tr><td>101163161</td><td>&quot;IRASTRO&quot;</td><td>&quot;SIGNED&quot;</td><td>&quot;MOLECULAR QUANTUM DYNAMICS IN …</td><td>2025-08-01</td><td>2031-07-31</td><td>1.2085363e7</td><td>1.2085363e7</td><td>&quot;HORIZON.1.1&quot;</td><td>&quot;ERC-2024-SyG&quot;</td><td>2025-02-20</td><td>&quot;HORIZON&quot;</td><td>&quot;ERC-2024-SyG&quot;</td><td>&quot;ERC-2024-SyG&quot;</td><td>&quot;HORIZON-ERC-SYG&quot;</td><td>null</td><td>&quot;The James Webb Space Telescope…</td><td>2025-02-24 17:23:14</td><td>268970</td><td>&quot;10.3030/101163161&quot;</td></tr><tr><td>101160499</td><td>&quot;In-phase&quot;</td><td>&quot;SIGNED&quot;</td><td>&quot;Multiscale modelling of aberra…</td><td>2025-06-01</td><td>2030-05-31</td><td>1.489128e6</td><td>1.489128e6</td><td>&quot;HORIZON.1.1&quot;</td><td>&quot;ERC-2024-STG&quot;</td><td>2025-02-19</td><td>&quot;HORIZON&quot;</td><td>&quot;ERC-2024-STG&quot;</td><td>&quot;ERC-2024-STG&quot;</td><td>&quot;HORIZON-ERC&quot;</td><td>null</td><td>&quot;The spatiotemporal organizatio…</td><td>2025-02-24 17:23:11</td><td>268969</td><td>&quot;10.3030/101160499&quot;</td></tr><tr><td>101166905</td><td>&quot;mw-atlas&quot;</td><td>&quot;SIGNED&quot;</td><td>&quot;The first comprehensive Atlas …</td><td>2025-05-01</td><td>2031-04-30</td><td>9.95756e6</td><td>9.95756e6</td><td>&quot;HORIZON.1.1&quot;</td><td>&quot;ERC-2024-SyG&quot;</td><td>2025-02-20</td><td>&quot;HORIZON&quot;</td><td>&quot;ERC-2024-SyG&quot;</td><td>&quot;ERC-2024-SyG&quot;</td><td>&quot;HORIZON-ERC-SYG&quot;</td><td>null</td><td>&quot;The Milky Way is the cosmic en…</td><td>2025-02-24 17:23:01</td><td>268971</td><td>&quot;10.3030/101166905&quot;</td></tr><tr><td>101162875</td><td>&quot;MAtCHLESS&quot;</td><td>&quot;SIGNED&quot;</td><td>&quot;Untapping multiparametric 2D l…</td><td>2025-03-01</td><td>2030-02-28</td><td>1.5e6</td><td>1.5e6</td><td>&quot;HORIZON.1.1&quot;</td><td>&quot;ERC-2024-STG&quot;</td><td>2025-02-18</td><td>&quot;HORIZON&quot;</td><td>&quot;ERC-2024-STG&quot;</td><td>&quot;ERC-2024-STG&quot;</td><td>&quot;HORIZON-ERC&quot;</td><td>null</td><td>&quot;Cellular organisms are complex…</td><td>2025-02-24 17:23:12</td><td>268966</td><td>&quot;10.3030/101162875&quot;</td></tr></tbody></table></div>"
      ],
      "text/plain": [
       "shape: (5, 20)\n",
       "┌───────────┬───────────┬────────┬─────────────┬───┬────────────┬────────────┬────────┬────────────┐\n",
       "│ id        ┆ acronym   ┆ status ┆ title       ┆ … ┆ objective  ┆ contentUpd ┆ rcn    ┆ grantDoi   │\n",
       "│ ---       ┆ ---       ┆ ---    ┆ ---         ┆   ┆ ---        ┆ ateDate    ┆ ---    ┆ ---        │\n",
       "│ i64       ┆ str       ┆ str    ┆ str         ┆   ┆ str        ┆ ---        ┆ i64    ┆ str        │\n",
       "│           ┆           ┆        ┆             ┆   ┆            ┆ datetime[μ ┆        ┆            │\n",
       "│           ┆           ┆        ┆             ┆   ┆            ┆ s]         ┆        ┆            │\n",
       "╞═══════════╪═══════════╪════════╪═════════════╪═══╪════════════╪════════════╪════════╪════════════╡\n",
       "│ 101116741 ┆ DOE       ┆ SIGNED ┆ Digitizing  ┆ … ┆ How do lon ┆ 2023-12-26 ┆ 259247 ┆ 10.3030/10 │\n",
       "│           ┆           ┆        ┆ Other       ┆   ┆ gstanding, ┆ 14:40:12   ┆        ┆ 1116741    │\n",
       "│           ┆           ┆        ┆ Economies:  ┆   ┆ primarily… ┆            ┆        ┆            │\n",
       "│           ┆           ┆        ┆ A …         ┆   ┆            ┆            ┆        ┆            │\n",
       "│ 101163161 ┆ IRASTRO   ┆ SIGNED ┆ MOLECULAR   ┆ … ┆ The James  ┆ 2025-02-24 ┆ 268970 ┆ 10.3030/10 │\n",
       "│           ┆           ┆        ┆ QUANTUM     ┆   ┆ Webb Space ┆ 17:23:14   ┆        ┆ 1163161    │\n",
       "│           ┆           ┆        ┆ DYNAMICS IN ┆   ┆ Telescope… ┆            ┆        ┆            │\n",
       "│           ┆           ┆        ┆ …           ┆   ┆            ┆            ┆        ┆            │\n",
       "│ 101160499 ┆ In-phase  ┆ SIGNED ┆ Multiscale  ┆ … ┆ The spatio ┆ 2025-02-24 ┆ 268969 ┆ 10.3030/10 │\n",
       "│           ┆           ┆        ┆ modelling   ┆   ┆ temporal   ┆ 17:23:11   ┆        ┆ 1160499    │\n",
       "│           ┆           ┆        ┆ of aberra…  ┆   ┆ organizati ┆            ┆        ┆            │\n",
       "│           ┆           ┆        ┆             ┆   ┆ o…         ┆            ┆        ┆            │\n",
       "│ 101166905 ┆ mw-atlas  ┆ SIGNED ┆ The first   ┆ … ┆ The Milky  ┆ 2025-02-24 ┆ 268971 ┆ 10.3030/10 │\n",
       "│           ┆           ┆        ┆ comprehensi ┆   ┆ Way is the ┆ 17:23:01   ┆        ┆ 1166905    │\n",
       "│           ┆           ┆        ┆ ve Atlas …  ┆   ┆ cosmic en… ┆            ┆        ┆            │\n",
       "│ 101162875 ┆ MAtCHLESS ┆ SIGNED ┆ Untapping   ┆ … ┆ Cellular   ┆ 2025-02-24 ┆ 268966 ┆ 10.3030/10 │\n",
       "│           ┆           ┆        ┆ multiparame ┆   ┆ organisms  ┆ 17:23:12   ┆        ┆ 1162875    │\n",
       "│           ┆           ┆        ┆ tric 2D l…  ┆   ┆ are        ┆            ┆        ┆            │\n",
       "│           ┆           ┆        ┆             ┆   ┆ complex…   ┆            ┆        ┆            │\n",
       "└───────────┴───────────┴────────┴─────────────┴───┴────────────┴────────────┴────────┴────────────┘"
      ]
     },
     "execution_count": 179,
     "metadata": {},
     "output_type": "execute_result"
    }
   ],
   "source": [
    "projects = pl.read_parquet(\"projects.parquet\")\n",
    "projects.head()"
   ]
  },
  {
   "cell_type": "markdown",
   "metadata": {},
   "source": [
    "#### Project Deliverables"
   ]
  },
  {
   "cell_type": "code",
   "execution_count": 102,
   "metadata": {},
   "outputs": [],
   "source": [
    "input_file = r\"C:\\Users\\Romain\\OneDrive - KU Leuven\\Masters\\MBIS\\Year 2\\Semester 2\\Modern Data Analytics\\CORDIS\\projectDeliverables.csv\"\n",
    "output_file = r\"C:\\Users\\Romain\\OneDrive - KU Leuven\\Masters\\MBIS\\Year 2\\Semester 2\\Modern Data Analytics\\CORDIS\\projectDeliverables_cleaned.csv\"\n",
    "\n",
    "\n",
    "number_pattern = re.compile(r\"\\d{4}\")\n",
    "\n",
    "DELIM_IN = \";\"\n",
    "DELIM_OUT = \";\"\n",
    "\n",
    "with open(input_file, \"r\", encoding=\"utf-8\") as f_in, \\\n",
    "     open(output_file, \"w\", encoding=\"utf-8\", newline=\"\") as f_out:\n",
    "    \n",
    "    writer = csv.writer(f_out, delimiter=DELIM_OUT)\n",
    "\n",
    "    header = True\n",
    "\n",
    "    for j, line in enumerate(f_in):\n",
    "        fields = line.rstrip(\"\\n\").split(DELIM_IN)\n",
    "        total_fields=[]\n",
    "        for i, field in enumerate(fields):\n",
    "            field = field.replace('\"','')\n",
    "            total_fields.append(field)\n",
    "        writer.writerow(total_fields)\n",
    "\n",
    "projects = pl.read_csv(output_file,separator=\";\",quote_char=None,has_header=True,infer_schema_length=40000,truncate_ragged_lines=True)"
   ]
  },
  {
   "cell_type": "code",
   "execution_count": 103,
   "metadata": {},
   "outputs": [
    {
     "data": {
      "text/html": [
       "<div><style>\n",
       ".dataframe > thead > tr,\n",
       ".dataframe > tbody > tr {\n",
       "  text-align: right;\n",
       "  white-space: pre-wrap;\n",
       "}\n",
       "</style>\n",
       "<small>shape: (5, 10)</small><table border=\"1\" class=\"dataframe\"><thead><tr><th>id</th><th>title</th><th>deliverableType</th><th>description</th><th>projectID</th><th>projectAcronym</th><th>url</th><th>collection</th><th>contentUpdateDate</th><th>rcn</th></tr><tr><td>str</td><td>str</td><td>str</td><td>str</td><td>str</td><td>str</td><td>str</td><td>str</td><td>str</td><td>str</td></tr></thead><tbody><tr><td>&quot;190136266_5_DELIVHORIZON&quot;</td><td>&quot;Project webpage and logo&quot;</td><td>&quot;Websites, patent fillings, vid…</td><td>&quot;Project webpage and logo&quot;</td><td>&quot;190136266&quot;</td><td>&quot;Deepstroke-Acc&quot;</td><td>&quot;https://ec.europa.eu/research/…</td><td>&quot;Project deliverable&quot;</td><td>&quot;2024-01-31 13:50:03&quot;</td><td>&quot;1038413&quot;</td></tr><tr><td>&quot;190177099_5_DELIVHORIZON&quot;</td><td>&quot;White paper on sustainable spa…</td><td>&quot;Documents, reports&quot;</td><td>&quot;White paper on sustainable spa…</td><td>&quot;190177099&quot;</td><td>&quot;Aurora Plasma Brake (APB)&quot;</td><td>&quot;https://ec.europa.eu/research/…</td><td>&quot;Project deliverable&quot;</td><td>&quot;2024-03-28 13:26:00&quot;</td><td>&quot;1067360&quot;</td></tr><tr><td>&quot;101129658_11_DELIVHORIZON&quot;</td><td>&quot;Dissemination and Communicatio…</td><td>&quot;Documents, reports&quot;</td><td>&quot;Planning and reporting of comp…</td><td>&quot;101129658&quot;</td><td>&quot;SPATRA&quot;</td><td>&quot;https://ec.europa.eu/research/…</td><td>&quot;Project deliverable&quot;</td><td>&quot;2024-05-06 11:02:10&quot;</td><td>&quot;1090541&quot;</td></tr><tr><td>&quot;101129658_4_DELIVHORIZON&quot;</td><td>&quot;Requirements and use cases spe…</td><td>&quot;Documents, reports&quot;</td><td>&quot;Report on defined requirements…</td><td>&quot;101129658&quot;</td><td>&quot;SPATRA&quot;</td><td>&quot;https://ec.europa.eu/research/…</td><td>&quot;Project deliverable&quot;</td><td>&quot;2024-12-02 16:52:21&quot;</td><td>&quot;1213967&quot;</td></tr><tr><td>&quot;101129658_2_DELIVHORIZON&quot;</td><td>&quot;Risk management and project qu…</td><td>&quot;Documents, reports&quot;</td><td>&quot;Risk management and Quality Pl…</td><td>&quot;101129658&quot;</td><td>&quot;SPATRA&quot;</td><td>&quot;https://ec.europa.eu/research/…</td><td>&quot;Project deliverable&quot;</td><td>&quot;2024-04-16 15:36:09&quot;</td><td>&quot;1079345&quot;</td></tr></tbody></table></div>"
      ],
      "text/plain": [
       "shape: (5, 10)\n",
       "┌────────────┬───────────┬───────────┬───────────┬───┬───────────┬───────────┬───────────┬─────────┐\n",
       "│ id         ┆ title     ┆ deliverab ┆ descripti ┆ … ┆ url       ┆ collectio ┆ contentUp ┆ rcn     │\n",
       "│ ---        ┆ ---       ┆ leType    ┆ on        ┆   ┆ ---       ┆ n         ┆ dateDate  ┆ ---     │\n",
       "│ str        ┆ str       ┆ ---       ┆ ---       ┆   ┆ str       ┆ ---       ┆ ---       ┆ str     │\n",
       "│            ┆           ┆ str       ┆ str       ┆   ┆           ┆ str       ┆ str       ┆         │\n",
       "╞════════════╪═══════════╪═══════════╪═══════════╪═══╪═══════════╪═══════════╪═══════════╪═════════╡\n",
       "│ 190136266_ ┆ Project   ┆ Websites, ┆ Project   ┆ … ┆ https://e ┆ Project   ┆ 2024-01-3 ┆ 1038413 │\n",
       "│ 5_DELIVHOR ┆ webpage   ┆ patent    ┆ webpage   ┆   ┆ c.europa. ┆ deliverab ┆ 1         ┆         │\n",
       "│ IZON       ┆ and logo  ┆ fillings, ┆ and logo  ┆   ┆ eu/resear ┆ le        ┆ 13:50:03  ┆         │\n",
       "│            ┆           ┆ vid…      ┆           ┆   ┆ ch/…      ┆           ┆           ┆         │\n",
       "│ 190177099_ ┆ White     ┆ Documents ┆ White     ┆ … ┆ https://e ┆ Project   ┆ 2024-03-2 ┆ 1067360 │\n",
       "│ 5_DELIVHOR ┆ paper on  ┆ , reports ┆ paper on  ┆   ┆ c.europa. ┆ deliverab ┆ 8         ┆         │\n",
       "│ IZON       ┆ sustainab ┆           ┆ sustainab ┆   ┆ eu/resear ┆ le        ┆ 13:26:00  ┆         │\n",
       "│            ┆ le spa…   ┆           ┆ le spa…   ┆   ┆ ch/…      ┆           ┆           ┆         │\n",
       "│ 101129658_ ┆ Dissemina ┆ Documents ┆ Planning  ┆ … ┆ https://e ┆ Project   ┆ 2024-05-0 ┆ 1090541 │\n",
       "│ 11_DELIVHO ┆ tion and  ┆ , reports ┆ and       ┆   ┆ c.europa. ┆ deliverab ┆ 6         ┆         │\n",
       "│ RIZON      ┆ Communica ┆           ┆ reporting ┆   ┆ eu/resear ┆ le        ┆ 11:02:10  ┆         │\n",
       "│            ┆ tio…      ┆           ┆ of comp…  ┆   ┆ ch/…      ┆           ┆           ┆         │\n",
       "│ 101129658_ ┆ Requireme ┆ Documents ┆ Report on ┆ … ┆ https://e ┆ Project   ┆ 2024-12-0 ┆ 1213967 │\n",
       "│ 4_DELIVHOR ┆ nts and   ┆ , reports ┆ defined   ┆   ┆ c.europa. ┆ deliverab ┆ 2         ┆         │\n",
       "│ IZON       ┆ use cases ┆           ┆ requireme ┆   ┆ eu/resear ┆ le        ┆ 16:52:21  ┆         │\n",
       "│            ┆ spe…      ┆           ┆ nts…      ┆   ┆ ch/…      ┆           ┆           ┆         │\n",
       "│ 101129658_ ┆ Risk mana ┆ Documents ┆ Risk mana ┆ … ┆ https://e ┆ Project   ┆ 2024-04-1 ┆ 1079345 │\n",
       "│ 2_DELIVHOR ┆ gement    ┆ , reports ┆ gement    ┆   ┆ c.europa. ┆ deliverab ┆ 6         ┆         │\n",
       "│ IZON       ┆ and       ┆           ┆ and       ┆   ┆ eu/resear ┆ le        ┆ 15:36:09  ┆         │\n",
       "│            ┆ project   ┆           ┆ Quality   ┆   ┆ ch/…      ┆           ┆           ┆         │\n",
       "│            ┆ qu…       ┆           ┆ Pl…       ┆   ┆           ┆           ┆           ┆         │\n",
       "└────────────┴───────────┴───────────┴───────────┴───┴───────────┴───────────┴───────────┴─────────┘"
      ]
     },
     "execution_count": 103,
     "metadata": {},
     "output_type": "execute_result"
    }
   ],
   "source": [
    "projects.head()"
   ]
  },
  {
   "cell_type": "code",
   "execution_count": null,
   "metadata": {},
   "outputs": [],
   "source": []
  }
 ],
 "metadata": {
  "kernelspec": {
   "display_name": "Python 3",
   "language": "python",
   "name": "python3"
  },
  "language_info": {
   "codemirror_mode": {
    "name": "ipython",
    "version": 3
   },
   "file_extension": ".py",
   "mimetype": "text/x-python",
   "name": "python",
   "nbconvert_exporter": "python",
   "pygments_lexer": "ipython3",
   "version": "3.10.5"
  }
 },
 "nbformat": 4,
 "nbformat_minor": 2
}
